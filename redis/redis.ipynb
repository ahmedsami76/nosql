{
 "cells": [
  {
   "cell_type": "markdown",
   "metadata": {},
   "source": [
    "![redis](.././images/Redis_Logo.svg.png)"
   ]
  },
  {
   "cell_type": "markdown",
   "metadata": {},
   "source": [
    "### Redis (REmoteDIctionaryServer)"
   ]
  },
  {
   "cell_type": "markdown",
   "metadata": {},
   "source": [
    "## Getting Started"
   ]
  },
  {
   "cell_type": "code",
   "execution_count": null,
   "metadata": {
    "vscode": {
     "languageId": "plaintext"
    }
   },
   "outputs": [],
   "source": []
  },
  {
   "cell_type": "markdown",
   "metadata": {},
   "source": [
    "# Install Redis"
   ]
  },
  {
   "cell_type": "markdown",
   "metadata": {
    "vscode": {
     "languageId": "plaintext"
    }
   },
   "source": [
    "## Using Docker Compose\n",
    "`$ docker-compose -f redis-dc.yaml up` "
   ]
  },
  {
   "cell_type": "markdown",
   "metadata": {
    "vscode": {
     "languageId": "plaintext"
    }
   },
   "source": [
    "## Using `K3s`\n",
    "\n",
    "Install K3s cluster  \n",
    "`$ curl -sfL https://get.k3s.io | sh -`  \n",
    "`$ mkdir -p ~/.kube`  \n",
    "`$ sudo cp /etc/rancher/k3s/k3s.yaml ~/.kube/config`  \n",
    "`$ sudo chown $(id -u):$(id -g) ~/.kube/config`"
   ]
  },
  {
   "cell_type": "markdown",
   "metadata": {
    "vscode": {
     "languageId": "plaintext"
    }
   },
   "source": [
    "`$ sudo chmod 644 /etc/rancher/k3s/k3s.yaml`"
   ]
  },
  {
   "cell_type": "markdown",
   "metadata": {
    "vscode": {
     "languageId": "plaintext"
    }
   },
   "source": [
    "### Install vscode redis extension and install redis-cli on the host"
   ]
  },
  {
   "cell_type": "markdown",
   "metadata": {
    "vscode": {
     "languageId": "plaintext"
    }
   },
   "source": [
    "`$ sudo apt install redis-tools`"
   ]
  },
  {
   "cell_type": "markdown",
   "metadata": {
    "vscode": {
     "languageId": "plaintext"
    }
   },
   "source": [
    "retrieve the redis service ip and port from the cluster  \n",
    "`$ kubectl get svc redis`  \n"
   ]
  },
  {
   "cell_type": "markdown",
   "metadata": {
    "vscode": {
     "languageId": "plaintext"
    }
   },
   "source": [
    "connect to the redis service using redis-cli  \n",
    "`$ redis-cli -h <service-ip> -p <service-port>`"
   ]
  },
  {
   "cell_type": "markdown",
   "metadata": {},
   "source": [
    "### Python for Redis"
   ]
  },
  {
   "cell_type": "markdown",
   "metadata": {},
   "source": [
    "**redis-py**  \n",
    "`pip install redis`"
   ]
  },
  {
   "cell_type": "markdown",
   "metadata": {},
   "source": [
    "### CLI"
   ]
  },
  {
   "cell_type": "markdown",
   "metadata": {},
   "source": [
    "**String quoting and escaping**\n",
    "\n",
    "\n",
    "    \\\" - double-quote\n",
    "    \\n - newline\n",
    "    \\r - carriage return\n",
    "    \\t - horizontal tab\n",
    "    \\b - backspace\n",
    "    \\a - alert\n",
    "    \\\\ - backslash\n",
    "    \\xhh - any ASCII character represented by a hexadecimal number (hh)\n"
   ]
  },
  {
   "cell_type": "markdown",
   "metadata": {},
   "source": [
    "```\n",
    "127.0.0.1:6379> SET mykey \"Hello\\nWorld\"\n",
    "OK\n",
    "127.0.0.1:6379> GET mykey\n",
    "Hello\n",
    "World\n",
    "```"
   ]
  },
  {
   "cell_type": "markdown",
   "metadata": {},
   "source": [
    "**Host, port, password, and database**  \n",
    "`$ redis-cli -h redis-server-hostname -p 6389 PING`  \n",
    "`PONG`"
   ]
  },
  {
   "cell_type": "markdown",
   "metadata": {},
   "source": [
    "`$ redis-cli -a somepassword PING`  \n",
    "`PONG`"
   ]
  },
  {
   "cell_type": "markdown",
   "metadata": {},
   "source": [
    "**Getting inputs externally**  \n",
    "```\n",
    "# echo -e \"text1\\ntext2\\ntext3\\ntext4\\ntext5\\ntext6\" > values\n",
    "# cat values\n",
    "# redis-cli -x set somekey < /data/values\n",
    "OK\n",
    "# redis-cli GET somekey\n",
    "\"text1\\ntext2\\ntext3\\ntext4\\ntext5\\ntext6\\n\"\n",
    "```"
   ]
  },
  {
   "cell_type": "markdown",
   "metadata": {},
   "source": [
    "**Execute commands from file**  \n",
    "```\n",
    "# cat /tmp/commands.txt\n",
    "SET item:3374 100\n",
    "INCR item:3374\n",
    "APPEND item:3374 xxx\n",
    "GET item:3374\n",
    "# cat /tmp/commands.txt | redis-cli\n",
    "OK\n",
    "(integer) 101\n",
    "(integer) 6\n",
    "\"101xxx\"\n",
    "```"
   ]
  },
  {
   "cell_type": "markdown",
   "metadata": {},
   "source": []
  },
  {
   "cell_type": "markdown",
   "metadata": {},
   "source": [
    "**Running same command multiple times**  \n",
    "`127.0.0.1:6379> 5 INCR mycounter`  "
   ]
  },
  {
   "cell_type": "markdown",
   "metadata": {},
   "source": [
    "**Continuoe stats mode**  \n",
    "`$ redis-cli --stat`  "
   ]
  },
  {
   "cell_type": "markdown",
   "metadata": {},
   "source": [
    "**Getting a list of keys**  \n",
    "`$ redis-cli --scan | head -10`  \n",
    "**with patterns**  \n",
    "`$ redis-cli --scan --patern '*-key*'`"
   ]
  },
  {
   "cell_type": "markdown",
   "metadata": {},
   "source": [
    "**Monitor commands executed**  \n",
    "-- From CLi  \n",
    "`$ redis-cli MONITOR`  \n",
    "-- From interactive mode  \n",
    "`$ SET key3 val3 EX 5`      "
   ]
  },
  {
   "cell_type": "markdown",
   "metadata": {},
   "source": [
    "**Delete all keys**  \n",
    "-- in a  specific database  \n",
    "`127.0.0.1:6379> flushdb`  \n",
    "-- in all databases  \n",
    "`127.0.0.1:6379> flushall`  \n"
   ]
  },
  {
   "cell_type": "markdown",
   "metadata": {},
   "source": [
    "## RedisInsight  \n",
    "**[RedisInsight](https://redis.com/redis-enterprise/redis-insight/?_gl=1*efu9or*_ga*MTU2NTM5MzMzNC4xNjg3NjM5NDU2*_ga_8BKGRQKRPV*MTY4NzcxNjQ3NC40LjEuMTY4NzcxNjQ3NC42MC4wLjA.&_ga=2.68844881.1917868530.1687639457-1565393334.1687639456)**"
   ]
  },
  {
   "cell_type": "markdown",
   "metadata": {},
   "source": [
    "`docker run -v redisinsight:/db -p 8001:8001 redislabs/redisinsight:latest`"
   ]
  },
  {
   "cell_type": "code",
   "execution_count": null,
   "metadata": {
    "vscode": {
     "languageId": "plaintext"
    }
   },
   "outputs": [],
   "source": []
  },
  {
   "cell_type": "code",
   "execution_count": null,
   "metadata": {
    "vscode": {
     "languageId": "plaintext"
    }
   },
   "outputs": [],
   "source": []
  },
  {
   "cell_type": "code",
   "execution_count": null,
   "metadata": {
    "vscode": {
     "languageId": "plaintext"
    }
   },
   "outputs": [],
   "source": []
  },
  {
   "cell_type": "markdown",
   "metadata": {},
   "source": [
    "### Architecture notes   \n"
   ]
  },
  {
   "cell_type": "markdown",
   "metadata": {},
   "source": [
    "**[Architecture Notes | Redis](www.architecturenotes.co/redis)**"
   ]
  },
  {
   "cell_type": "markdown",
   "metadata": {},
   "source": []
  }
 ],
 "metadata": {
  "language_info": {
   "name": "python"
  },
  "orig_nbformat": 4
 },
 "nbformat": 4,
 "nbformat_minor": 2
}
